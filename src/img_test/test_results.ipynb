{
 "cells": [
  {
   "cell_type": "code",
   "execution_count": 14,
   "metadata": {},
   "outputs": [],
   "source": [
    "import cv2\n",
    "import matplotlib.pyplot as plt\n",
    "import seaborn as sns; sns.set_theme()\n",
    "import numpy as np\n",
    "import matplotlib.pyplot as plt\n",
    "from pylab import savefig\n",
    "%matplotlib inline"
   ]
  },
  {
   "cell_type": "code",
   "execution_count": 57,
   "metadata": {},
   "outputs": [],
   "source": [
    "def binaryze(img):\n",
    "    N, M = img.shape\n",
    "    for i in range(N):\n",
    "        for j in range(M):\n",
    "            if img[i, j]/255. > 0.6:\n",
    "                img[i, j] = 255\n",
    "            else:\n",
    "                img[i, j] = 0\n",
    "    return img"
   ]
  },
  {
   "cell_type": "code",
   "execution_count": 58,
   "metadata": {},
   "outputs": [
    {
     "data": {
      "text/plain": [
       "<Figure size 432x288 with 0 Axes>"
      ]
     },
     "metadata": {},
     "output_type": "display_data"
    },
    {
     "data": {
      "text/plain": [
       "<Figure size 432x288 with 0 Axes>"
      ]
     },
     "metadata": {},
     "output_type": "display_data"
    },
    {
     "data": {
      "text/plain": [
       "<Figure size 432x288 with 0 Axes>"
      ]
     },
     "metadata": {},
     "output_type": "display_data"
    },
    {
     "data": {
      "text/plain": [
       "<Figure size 432x288 with 0 Axes>"
      ]
     },
     "metadata": {},
     "output_type": "display_data"
    },
    {
     "data": {
      "text/plain": [
       "<Figure size 432x288 with 0 Axes>"
      ]
     },
     "metadata": {},
     "output_type": "display_data"
    },
    {
     "data": {
      "text/plain": [
       "<Figure size 432x288 with 0 Axes>"
      ]
     },
     "metadata": {},
     "output_type": "display_data"
    }
   ],
   "source": [
    "for k in range(1, 7):\n",
    "    fig = plt.figure()\n",
    "    gt = cv2.imread(\"./{}_gt.png\".format(k), 0)\n",
    "    gt_pred = cv2.imread(\"./{}_predgt.png\".format(k), 0)\n",
    "    gt_pred = binaryze(gt_pred)\n",
    "    N, M = gt.shape\n",
    "    img = np.zeros((N, M, 3))\n",
    "    for i in range(N):\n",
    "        for j in range(M):\n",
    "            img[i, j, 0] = gt_pred[i, j]\n",
    "            img[i, j, 1] = 0\n",
    "            img[i, j, 2] = gt[i, j]\n",
    "    img /= 255.\n",
    "    plt.imsave(\"./{}_supp.png\".format(k), img, format='png')"
   ]
  },
  {
   "cell_type": "code",
   "execution_count": null,
   "metadata": {},
   "outputs": [],
   "source": []
  }
 ],
 "metadata": {
  "kernelspec": {
   "display_name": "tf",
   "language": "python",
   "name": "tf"
  },
  "language_info": {
   "codemirror_mode": {
    "name": "ipython",
    "version": 3
   },
   "file_extension": ".py",
   "mimetype": "text/x-python",
   "name": "python",
   "nbconvert_exporter": "python",
   "pygments_lexer": "ipython3",
   "version": "3.8.5"
  }
 },
 "nbformat": 4,
 "nbformat_minor": 4
}
