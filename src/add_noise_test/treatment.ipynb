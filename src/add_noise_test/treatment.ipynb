{
 "cells": [
  {
   "cell_type": "code",
   "execution_count": 8,
   "metadata": {},
   "outputs": [],
   "source": [
    "import cv2\n",
    "import matplotlib.pyplot as plt\n",
    "import seaborn as sns; \n",
    "import numpy as np\n",
    "import matplotlib.pyplot as plt\n",
    "from sklearn.decomposition import PCA\n",
    "from mpl_toolkits import mplot3d\n",
    "from pylab import savefig\n",
    "from sklearn.cluster import KMeans\n",
    "from sklearn.cluster import DBSCAN\n",
    "import skimage.morphology as morph\n",
    "from scipy.ndimage.measurements import label"
   ]
  },
  {
   "cell_type": "code",
   "execution_count": 47,
   "metadata": {},
   "outputs": [],
   "source": [
    "res = []\n",
    "for k in range(0, 300, 1):\n",
    "    n=\"6_{}\".format(k/1000)\n",
    "    reconstruction = np.load(\"./{}_reconstruction.npy\".format(n))\n",
    "    features = np.load(\"./{}_features.npy\".format(n))\n",
    "\n",
    "    error = np.abs(features-reconstruction)\n",
    "    error = np.sum(error, axis=-1)\n",
    "    error_list = []\n",
    "\n",
    "    # K-means\n",
    "    n, m = error.shape\n",
    "\n",
    "    for i in range(n):\n",
    "        for j in range(m):\n",
    "            error_list.append([error[i, j]])      \n",
    "\n",
    "    kmeans = KMeans(n_clusters=5, random_state=0).fit(error_list)\n",
    "    counts = [0, 0, 0, 0, 0]\n",
    "    #Count k-means class\n",
    "    for e in kmeans.labels_:\n",
    "        counts[e] += 1\n",
    "\n",
    "    error_2 = np.zeros((n, m))\n",
    "    count = 0\n",
    "    for i in range(n):\n",
    "        for j in range(m):\n",
    "            classe = kmeans.labels_[count]\n",
    "            if classe != np.argmax(counts):\n",
    "                if classe == 2:\n",
    "                    error_2[i,j] = 1\n",
    "                elif classe == 3:\n",
    "                    error_2[i,j] = 1\n",
    "\n",
    "            count += 1\n",
    "\n",
    "    # Morphology\n",
    "    closing = morph.binary_closing(error_2, morph.square(4))\n",
    "    opening = morph.binary_opening(closing, morph.square(4))\n",
    "\n",
    "    # CC\n",
    "    labeled_array, num_features = label(opening)\n",
    "\n",
    "    count = [0 for _ in range(num_features)]\n",
    "    for i in range(n):\n",
    "        for j in range(m):\n",
    "            lab = labeled_array[i, j]\n",
    "            if lab != 0:\n",
    "                count[lab - 1] += 1\n",
    "\n",
    "    # take biggest cc\n",
    "    error_final = np.zeros(error.shape)\n",
    "    for i in range(n):\n",
    "        for j in range(m):\n",
    "            if labeled_array[i, j] == np.argmax(count) + 1:\n",
    "                error_final[i, j] = 1\n",
    "\n",
    "    closing_2 = morph.binary_closing(error_final, morph.square(15))\n",
    "    dilatation = morph.binary_dilation(closing_2)\n",
    "    res.append(dilatation)"
   ]
  },
  {
   "cell_type": "code",
   "execution_count": 48,
   "metadata": {},
   "outputs": [],
   "source": [
    "mask = plt.imread(\"6_gt.png\")\n",
    "n, m, _ = mask.shape\n",
    "mask2 = np.zeros((n, m))\n",
    "for i in range(n):\n",
    "    for j in range(m):\n",
    "        if mask[i,j,0] == 1:\n",
    "            mask2[i, j] = 1\n",
    "mask = mask2"
   ]
  },
  {
   "cell_type": "code",
   "execution_count": 49,
   "metadata": {},
   "outputs": [],
   "source": [
    "def dice(pred_mask, mask):\n",
    "    n, m = mask.shape\n",
    "    count_pred, count_ori = 0, 0\n",
    "    inter = 0\n",
    "    for i in range(n):\n",
    "        for j in range(m):\n",
    "            pred = pred_mask[i, j]\n",
    "            ori = mask[i, j]\n",
    "            \n",
    "            count_pred += pred\n",
    "            count_ori += ori\n",
    "            \n",
    "            if pred and ori:\n",
    "                inter += 1\n",
    "    return 2*inter/(count_pred+count_ori)"
   ]
  },
  {
   "cell_type": "code",
   "execution_count": 50,
   "metadata": {},
   "outputs": [],
   "source": [
    "dice_values = []\n",
    "for pred_mask in res:\n",
    "    dice_values.append(dice(pred_mask, mask2))"
   ]
  },
  {
   "cell_type": "code",
   "execution_count": 56,
   "metadata": {},
   "outputs": [
    {
     "data": {
      "image/png": "[encoded data removed]",
      "text/plain": [
       "<Figure size 432x288 with 1 Axes>"
      ]
     },
     "metadata": {
      "needs_background": "light"
     },
     "output_type": "display_data"
    }
   ],
   "source": [
    "from scipy.interpolate import splrep, splev\n",
    "\n",
    "noise = [sig/1000 for sig in range(0, 300, 1)]\n",
    "bspl = splrep(noise,dice_values,s=5)\n",
    "bspl_y = splev(noise,bspl)\n",
    "#plt.plot(noise, dice_values)\n",
    "plt.plot(noise, bspl_y)\n",
    "plt.title(\"DICE evolution\")\n",
    "plt.xlabel(\"Standard-Deviation\")\n",
    "plt.ylabel(\"Dice\")\n",
    "plt.savefig(\"./cow_curve.jpg\", format='jpg')"
   ]
  },
  {
   "cell_type": "code",
   "execution_count": null,
   "metadata": {},
   "outputs": [],
   "source": []
  }
 ],
 "metadata": {
  "kernelspec": {
   "display_name": "tf",
   "language": "python",
   "name": "tf"
  },
  "language_info": {
   "codemirror_mode": {
    "name": "ipython",
    "version": 3
   },
   "file_extension": ".py",
   "mimetype": "text/x-python",
   "name": "python",
   "nbconvert_exporter": "python",
   "pygments_lexer": "ipython3",
   "version": "3.8.5"
  }
 },
 "nbformat": 4,
 "nbformat_minor": 4
}
