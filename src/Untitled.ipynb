{
 "cells": [
  {
   "cell_type": "code",
   "execution_count": null,
   "metadata": {},
   "outputs": [],
   "source": [
    "def enum_matrix(N, M, block_size, I, J):\n",
    "    matrix = np.zeros((N, M)) + 1\n",
    "    for i in I:\n",
    "        for j in J:\n",
    "            matrix[i:(i + block_size), j:(j + block_size)] += 1\n",
    "    return matrix\n",
    "\n",
    "\n",
    "def pred_map(model, image, block_size, I, J):\n",
    "    N, M, _ = image.shape\n",
    "    pred_map = np.zeros((N, M))\n",
    "    for i in tqdm(I):\n",
    "        for j in J:\n",
    "            block = image[i:(i + block_size), j:(j + block_size)]\n",
    "            label = model.predict(np.array([block]))[0, 0]\n",
    "            pred_map[i:(i + block_size), j:(j + block_size)] += label\n",
    "    enum_mat = enum_matrix(N, M, block_size, I, J)\n",
    "    return pred_map / enum_mat\n",
    "\n",
    "J = np.array([0, 8, 16, 24, 32, 40, 48, 56, 64, 72, 80, 88, 96,\n",
    "              104, 112, 120, 128, 136, 144, 152, 160, 168, 176, 184, 192, 200,\n",
    "              208, 216, 224, 232, 240, 248, 256, 264, 272, 280, 288, 296, 304,\n",
    "              312, 320, 328, 336, 344, 351])\n",
    "I = np.array([0, 8, 16, 24, 32, 40, 48, 56, 64, 72, 80, 88, 96,\n",
    "              104, 112, 120, 128, 136, 144, 152, 160, 168, 176, 184, 192, 200,\n",
    "              208, 216, 221])\n",
    "img = cv2.imread(\"./test.jpg\")\n",
    "img = img[..., ::-1]\n",
    "print(img.shape)\n",
    "dir = '../pretrained_model/model_1.h5'\n",
    "\n",
    "model = lightfeaturesextract.light_featex()\n",
    "model.load_weights(dir)\n",
    "optimizer = Adam(lr=1e-6)\n",
    "model.compile(optimizer=optimizer, loss='binary_crossentropy', metrics=['accuracy'])\n",
    "\n",
    "pred = pred_map(model, img, 32, I, J)\n",
    "np.save(\"./pred_map.npy\", pred)\n"
   ]
  }
 ],
 "metadata": {
  "kernelspec": {
   "display_name": "tf",
   "language": "python",
   "name": "tf"
  },
  "language_info": {
   "codemirror_mode": {
    "name": "ipython",
    "version": 3
   },
   "file_extension": ".py",
   "mimetype": "text/x-python",
   "name": "python",
   "nbconvert_exporter": "python",
   "pygments_lexer": "ipython3",
   "version": "3.8.5"
  }
 },
 "nbformat": 4,
 "nbformat_minor": 4
}
