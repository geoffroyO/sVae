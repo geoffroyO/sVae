{
 "cells": [
  {
   "cell_type": "code",
   "execution_count": 10,
   "metadata": {},
   "outputs": [],
   "source": [
    "import lightfeaturesextract\n",
    "import load_model as lm\n",
    "from sklearn.model_selection import train_test_split\n",
    "import numpy as np\n",
    "import tensorflow as tf\n",
    "from sklearn.utils import compute_class_weight\n",
    "from tensorflow.keras.callbacks import ReduceLROnPlateau\n",
    "import random\n",
    "from tensorflow.keras.optimizers import Adam, SGD"
   ]
  },
  {
   "cell_type": "code",
   "execution_count": 11,
   "metadata": {},
   "outputs": [],
   "source": [
    "model = lightfeaturesextract.light_featex()"
   ]
  },
  {
   "cell_type": "code",
   "execution_count": 12,
   "metadata": {},
   "outputs": [
    {
     "name": "stdout",
     "output_type": "stream",
     "text": [
      "Model: \"Featex\"\n",
      "__________________________________________________________________________________________________\n",
      "Layer (type)                    Output Shape         Param #     Connected to                     \n",
      "==================================================================================================\n",
      "image_in (InputLayer)           [(None, 32, 32, 3)]  0                                            \n",
      "__________________________________________________________________________________________________\n",
      "b1c1 (Conv2D)                   (None, 32, 32, 15)   1140        image_in[0][0]                   \n",
      "__________________________________________________________________________________________________\n",
      "c1_bis (Conv2D)                 (None, 32, 32, 17)   1292        image_in[0][0]                   \n",
      "__________________________________________________________________________________________________\n",
      "concatenate_1 (Concatenate)     (None, 32, 32, 32)   0           b1c1[0][0]                       \n",
      "                                                                 c1_bis[0][0]                     \n",
      "__________________________________________________________________________________________________\n",
      "b1c2 (Conv2D)                   (None, 32, 32, 32)   9248        concatenate_1[0][0]              \n",
      "__________________________________________________________________________________________________\n",
      "batch_normalization_3 (BatchNor (None, 32, 32, 32)   128         b1c2[0][0]                       \n",
      "__________________________________________________________________________________________________\n",
      "dropout_4 (Dropout)             (None, 32, 32, 32)   0           batch_normalization_3[0][0]      \n",
      "__________________________________________________________________________________________________\n",
      "b2c1 (Conv2D)                   (None, 32, 32, 64)   18496       dropout_4[0][0]                  \n",
      "__________________________________________________________________________________________________\n",
      "b2c2 (Conv2D)                   (None, 32, 32, 64)   36928       b2c1[0][0]                       \n",
      "__________________________________________________________________________________________________\n",
      "batch_normalization_4 (BatchNor (None, 32, 32, 64)   256         b2c2[0][0]                       \n",
      "__________________________________________________________________________________________________\n",
      "dropout_5 (Dropout)             (None, 32, 32, 64)   0           batch_normalization_4[0][0]      \n",
      "__________________________________________________________________________________________________\n",
      "b3c1 (Conv2D)                   (None, 32, 32, 128)  73856       dropout_5[0][0]                  \n",
      "__________________________________________________________________________________________________\n",
      "b3c2 (Conv2D)                   (None, 32, 32, 128)  147584      b3c1[0][0]                       \n",
      "__________________________________________________________________________________________________\n",
      "batch_normalization_5 (BatchNor (None, 32, 32, 128)  512         b3c2[0][0]                       \n",
      "__________________________________________________________________________________________________\n",
      "dropout_6 (Dropout)             (None, 32, 32, 128)  0           batch_normalization_5[0][0]      \n",
      "__________________________________________________________________________________________________\n",
      "classifier_flatten (Flatten)    (None, 131072)       0           dropout_6[0][0]                  \n",
      "__________________________________________________________________________________________________\n",
      "classifier_densee (Dense)       (None, 1024)         134218752   classifier_flatten[0][0]         \n",
      "__________________________________________________________________________________________________\n",
      "dropout_7 (Dropout)             (None, 1024)         0           classifier_densee[0][0]          \n",
      "__________________________________________________________________________________________________\n",
      "dense_1 (Dense)                 (None, 1)            1025        dropout_7[0][0]                  \n",
      "==================================================================================================\n",
      "Total params: 134,509,217\n",
      "Trainable params: 134,507,629\n",
      "Non-trainable params: 1,588\n",
      "__________________________________________________________________________________________________\n"
     ]
    }
   ],
   "source": [
    "model.summary()"
   ]
  },
  {
   "cell_type": "code",
   "execution_count": null,
   "metadata": {},
   "outputs": [],
   "source": [
    "spliced, copy_moved, spliced_mask, copy_moved_mask = lm.load_images(\"../data/CASIA2/Tp/\", \"../data/CASIA2/gt/\")"
   ]
  },
  {
   "cell_type": "code",
   "execution_count": null,
   "metadata": {},
   "outputs": [],
   "source": [
    "data, labels = lm.patch_images(spliced[:100], spliced_mask[:100])"
   ]
  },
  {
   "cell_type": "code",
   "execution_count": null,
   "metadata": {},
   "outputs": [],
   "source": [
    "labels2 = []\n",
    "for label in labels:\n",
    "    tp = np.sum(label)/255\n",
    "    percent = tp*100/(32*32)\n",
    "    if 10 < percent < 70 :\n",
    "        labels2.append(1)\n",
    "    else:\n",
    "        labels2.append(0)"
   ]
  },
  {
   "cell_type": "code",
   "execution_count": null,
   "metadata": {},
   "outputs": [],
   "source": [
    "data = [rgb.astype('float32')/255. for rgb in data]\n",
    "labels = labels2"
   ]
  },
  {
   "cell_type": "code",
   "execution_count": null,
   "metadata": {},
   "outputs": [],
   "source": [
    "tmp = list(zip(data, labels))\n",
    "random.shuffle(tmp)\n",
    "data, labels = zip(*tmp)"
   ]
  },
  {
   "cell_type": "code",
   "execution_count": null,
   "metadata": {},
   "outputs": [],
   "source": [
    "tt = np.sum(labels)\n",
    "count = 0\n",
    "dataf = []\n",
    "labelsf = []\n",
    "for k, img in enumerate(data):\n",
    "    if labels[k] == 0:\n",
    "        if count <= 4*tt:\n",
    "            count += 1\n",
    "            dataf.append(img)\n",
    "            labelsf.append(labels[k])\n",
    "    if labels[k] == 1:\n",
    "        dataf.append(img)\n",
    "        labelsf.append(labels[k])\n",
    "data = dataf\n",
    "labels = labelsf"
   ]
  },
  {
   "cell_type": "code",
   "execution_count": null,
   "metadata": {},
   "outputs": [],
   "source": [
    "classWeight = compute_class_weight('balanced', np.unique(labels), labels) \n",
    "classWeight = dict(enumerate(classWeight))\n",
    "learning_rate_reduction = ReduceLROnPlateau(monitor='val_accuracy', \n",
    "                                            patience=3, \n",
    "                                            verbose=1, \n",
    "                                            factor=0.5, \n",
    "                                            min_lr=1e-6)"
   ]
  },
  {
   "cell_type": "code",
   "execution_count": null,
   "metadata": {},
   "outputs": [],
   "source": [
    "train_img, val_img, train_labels, val_labels = train_test_split(data, labels, test_size=0.1, random_state=42)"
   ]
  },
  {
   "cell_type": "code",
   "execution_count": null,
   "metadata": {},
   "outputs": [],
   "source": [
    "history = model.fit(train_img, train_labels, epochs=20, batch_size = 32,\n",
    "                    validation_data=(val_img, val_labels))"
   ]
  },
  {
   "cell_type": "code",
   "execution_count": null,
   "metadata": {},
   "outputs": [],
   "source": []
  }
 ],
 "metadata": {
  "kernelspec": {
   "name": "tf",
   "language": "python",
   "display_name": "tf"
  },
  "language_info": {
   "codemirror_mode": {
    "name": "ipython",
    "version": 3
   },
   "file_extension": ".py",
   "mimetype": "text/x-python",
   "name": "python",
   "nbconvert_exporter": "python",
   "pygments_lexer": "ipython3",
   "version": "3.8.3"
  }
 },
 "nbformat": 4,
 "nbformat_minor": 4
}