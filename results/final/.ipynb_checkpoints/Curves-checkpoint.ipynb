{
 "cells": [
  {
   "cell_type": "code",
   "execution_count": 1,
   "metadata": {},
   "outputs": [],
   "source": [
    "import pandas as pd\n",
    "import matplotlib.pyplot as plt\n",
    "%matplotlib inline"
   ]
  },
  {
   "cell_type": "code",
   "execution_count": 2,
   "metadata": {},
   "outputs": [
    {
     "data": {
      "text/html": [
       "<div>\n",
       "<style scoped>\n",
       "    .dataframe tbody tr th:only-of-type {\n",
       "        vertical-align: middle;\n",
       "    }\n",
       "\n",
       "    .dataframe tbody tr th {\n",
       "        vertical-align: top;\n",
       "    }\n",
       "\n",
       "    .dataframe thead th {\n",
       "        text-align: right;\n",
       "    }\n",
       "</style>\n",
       "<table border=\"1\" class=\"dataframe\">\n",
       "  <thead>\n",
       "    <tr style=\"text-align: right;\">\n",
       "      <th></th>\n",
       "      <th>epoch</th>\n",
       "      <th>auc</th>\n",
       "      <th>dice</th>\n",
       "      <th>loss</th>\n",
       "      <th>precision</th>\n",
       "      <th>recall</th>\n",
       "      <th>val_auc</th>\n",
       "      <th>val_dice</th>\n",
       "      <th>val_loss</th>\n",
       "      <th>val_precision</th>\n",
       "      <th>val_recall</th>\n",
       "    </tr>\n",
       "  </thead>\n",
       "  <tbody>\n",
       "    <tr>\n",
       "      <th>1</th>\n",
       "      <td>1</td>\n",
       "      <td>0.498999</td>\n",
       "      <td>0.354573</td>\n",
       "      <td>0.827176</td>\n",
       "      <td>0.301776</td>\n",
       "      <td>0.470797</td>\n",
       "      <td>0.499641</td>\n",
       "      <td>0.370533</td>\n",
       "      <td>0.875038</td>\n",
       "      <td>0.300116</td>\n",
       "      <td>0.730977</td>\n",
       "    </tr>\n",
       "    <tr>\n",
       "      <th>2</th>\n",
       "      <td>2</td>\n",
       "      <td>0.499146</td>\n",
       "      <td>0.355332</td>\n",
       "      <td>0.805159</td>\n",
       "      <td>0.301871</td>\n",
       "      <td>0.456821</td>\n",
       "      <td>0.499772</td>\n",
       "      <td>0.370542</td>\n",
       "      <td>0.830135</td>\n",
       "      <td>0.300215</td>\n",
       "      <td>0.684223</td>\n",
       "    </tr>\n",
       "    <tr>\n",
       "      <th>3</th>\n",
       "      <td>3</td>\n",
       "      <td>0.499432</td>\n",
       "      <td>0.356026</td>\n",
       "      <td>0.787033</td>\n",
       "      <td>0.302058</td>\n",
       "      <td>0.440996</td>\n",
       "      <td>0.499978</td>\n",
       "      <td>0.370636</td>\n",
       "      <td>0.800011</td>\n",
       "      <td>0.300397</td>\n",
       "      <td>0.642511</td>\n",
       "    </tr>\n",
       "    <tr>\n",
       "      <th>4</th>\n",
       "      <td>4</td>\n",
       "      <td>0.499464</td>\n",
       "      <td>0.356566</td>\n",
       "      <td>0.771812</td>\n",
       "      <td>0.302083</td>\n",
       "      <td>0.423470</td>\n",
       "      <td>0.500198</td>\n",
       "      <td>0.370768</td>\n",
       "      <td>0.778275</td>\n",
       "      <td>0.300549</td>\n",
       "      <td>0.604533</td>\n",
       "    </tr>\n",
       "    <tr>\n",
       "      <th>5</th>\n",
       "      <td>5</td>\n",
       "      <td>0.499596</td>\n",
       "      <td>0.357039</td>\n",
       "      <td>0.758428</td>\n",
       "      <td>0.302184</td>\n",
       "      <td>0.404737</td>\n",
       "      <td>0.500408</td>\n",
       "      <td>0.370882</td>\n",
       "      <td>0.761319</td>\n",
       "      <td>0.300715</td>\n",
       "      <td>0.569013</td>\n",
       "    </tr>\n",
       "  </tbody>\n",
       "</table>\n",
       "</div>"
      ],
      "text/plain": [
       "   epoch       auc      dice      loss  precision    recall   val_auc  \\\n",
       "1      1  0.498999  0.354573  0.827176   0.301776  0.470797  0.499641   \n",
       "2      2  0.499146  0.355332  0.805159   0.301871  0.456821  0.499772   \n",
       "3      3  0.499432  0.356026  0.787033   0.302058  0.440996  0.499978   \n",
       "4      4  0.499464  0.356566  0.771812   0.302083  0.423470  0.500198   \n",
       "5      5  0.499596  0.357039  0.758428   0.302184  0.404737  0.500408   \n",
       "\n",
       "   val_dice  val_loss  val_precision  val_recall  \n",
       "1  0.370533  0.875038       0.300116    0.730977  \n",
       "2  0.370542  0.830135       0.300215    0.684223  \n",
       "3  0.370636  0.800011       0.300397    0.642511  \n",
       "4  0.370768  0.778275       0.300549    0.604533  \n",
       "5  0.370882  0.761319       0.300715    0.569013  "
      ]
     },
     "execution_count": 2,
     "metadata": {},
     "output_type": "execute_result"
    }
   ],
   "source": [
    "res=pd.read_csv(\"./model_history_final_250.csv\")\n",
    "res = res.drop(0)\n",
    "res.head()"
   ]
  },
  {
   "cell_type": "code",
   "execution_count": 3,
   "metadata": {},
   "outputs": [
    {
     "data": {
      "text/html": [
       "<div>\n",
       "<style scoped>\n",
       "    .dataframe tbody tr th:only-of-type {\n",
       "        vertical-align: middle;\n",
       "    }\n",
       "\n",
       "    .dataframe tbody tr th {\n",
       "        vertical-align: top;\n",
       "    }\n",
       "\n",
       "    .dataframe thead th {\n",
       "        text-align: right;\n",
       "    }\n",
       "</style>\n",
       "<table border=\"1\" class=\"dataframe\">\n",
       "  <thead>\n",
       "    <tr style=\"text-align: right;\">\n",
       "      <th></th>\n",
       "      <th>epoch</th>\n",
       "      <th>auc</th>\n",
       "      <th>dice</th>\n",
       "      <th>loss</th>\n",
       "      <th>precision</th>\n",
       "      <th>recall</th>\n",
       "      <th>val_auc</th>\n",
       "      <th>val_dice</th>\n",
       "      <th>val_loss</th>\n",
       "      <th>val_precision</th>\n",
       "      <th>val_recall</th>\n",
       "      <th>f1</th>\n",
       "      <th>val_f1</th>\n",
       "    </tr>\n",
       "  </thead>\n",
       "  <tbody>\n",
       "    <tr>\n",
       "      <th>1</th>\n",
       "      <td>1</td>\n",
       "      <td>0.498999</td>\n",
       "      <td>0.354573</td>\n",
       "      <td>0.827176</td>\n",
       "      <td>0.301776</td>\n",
       "      <td>0.470797</td>\n",
       "      <td>0.499641</td>\n",
       "      <td>0.370533</td>\n",
       "      <td>0.875038</td>\n",
       "      <td>0.300116</td>\n",
       "      <td>0.730977</td>\n",
       "      <td>0.367797</td>\n",
       "      <td>0.425525</td>\n",
       "    </tr>\n",
       "    <tr>\n",
       "      <th>2</th>\n",
       "      <td>2</td>\n",
       "      <td>0.499146</td>\n",
       "      <td>0.355332</td>\n",
       "      <td>0.805159</td>\n",
       "      <td>0.301871</td>\n",
       "      <td>0.456821</td>\n",
       "      <td>0.499772</td>\n",
       "      <td>0.370542</td>\n",
       "      <td>0.830135</td>\n",
       "      <td>0.300215</td>\n",
       "      <td>0.684223</td>\n",
       "      <td>0.363523</td>\n",
       "      <td>0.417323</td>\n",
       "    </tr>\n",
       "    <tr>\n",
       "      <th>3</th>\n",
       "      <td>3</td>\n",
       "      <td>0.499432</td>\n",
       "      <td>0.356026</td>\n",
       "      <td>0.787033</td>\n",
       "      <td>0.302058</td>\n",
       "      <td>0.440996</td>\n",
       "      <td>0.499978</td>\n",
       "      <td>0.370636</td>\n",
       "      <td>0.800011</td>\n",
       "      <td>0.300397</td>\n",
       "      <td>0.642511</td>\n",
       "      <td>0.358537</td>\n",
       "      <td>0.409389</td>\n",
       "    </tr>\n",
       "    <tr>\n",
       "      <th>4</th>\n",
       "      <td>4</td>\n",
       "      <td>0.499464</td>\n",
       "      <td>0.356566</td>\n",
       "      <td>0.771812</td>\n",
       "      <td>0.302083</td>\n",
       "      <td>0.423470</td>\n",
       "      <td>0.500198</td>\n",
       "      <td>0.370768</td>\n",
       "      <td>0.778275</td>\n",
       "      <td>0.300549</td>\n",
       "      <td>0.604533</td>\n",
       "      <td>0.352622</td>\n",
       "      <td>0.401493</td>\n",
       "    </tr>\n",
       "    <tr>\n",
       "      <th>5</th>\n",
       "      <td>5</td>\n",
       "      <td>0.499596</td>\n",
       "      <td>0.357039</td>\n",
       "      <td>0.758428</td>\n",
       "      <td>0.302184</td>\n",
       "      <td>0.404737</td>\n",
       "      <td>0.500408</td>\n",
       "      <td>0.370882</td>\n",
       "      <td>0.761319</td>\n",
       "      <td>0.300715</td>\n",
       "      <td>0.569013</td>\n",
       "      <td>0.346022</td>\n",
       "      <td>0.393481</td>\n",
       "    </tr>\n",
       "  </tbody>\n",
       "</table>\n",
       "</div>"
      ],
      "text/plain": [
       "   epoch       auc      dice      loss  precision    recall   val_auc  \\\n",
       "1      1  0.498999  0.354573  0.827176   0.301776  0.470797  0.499641   \n",
       "2      2  0.499146  0.355332  0.805159   0.301871  0.456821  0.499772   \n",
       "3      3  0.499432  0.356026  0.787033   0.302058  0.440996  0.499978   \n",
       "4      4  0.499464  0.356566  0.771812   0.302083  0.423470  0.500198   \n",
       "5      5  0.499596  0.357039  0.758428   0.302184  0.404737  0.500408   \n",
       "\n",
       "   val_dice  val_loss  val_precision  val_recall        f1    val_f1  \n",
       "1  0.370533  0.875038       0.300116    0.730977  0.367797  0.425525  \n",
       "2  0.370542  0.830135       0.300215    0.684223  0.363523  0.417323  \n",
       "3  0.370636  0.800011       0.300397    0.642511  0.358537  0.409389  \n",
       "4  0.370768  0.778275       0.300549    0.604533  0.352622  0.401493  \n",
       "5  0.370882  0.761319       0.300715    0.569013  0.346022  0.393481  "
      ]
     },
     "execution_count": 3,
     "metadata": {},
     "output_type": "execute_result"
    }
   ],
   "source": [
    "f1score = []\n",
    "val_f1score = []\n",
    "for index, row in res.iterrows():\n",
    "    precision, recall = row[\"precision\"], row[\"recall\"]\n",
    "    f1 = 2*precision*recall/(precision+recall)\n",
    "    f1score.append(f1)\n",
    "    \n",
    "    val_precision, val_recall = row[\"val_precision\"], row[\"val_recall\"]\n",
    "    val_f1 = 2*val_precision*val_recall/(val_precision+val_recall)\n",
    "    val_f1score.append(val_f1)\n",
    "    \n",
    "res[\"f1\"] = f1score\n",
    "res[\"val_f1\"] = val_f1score\n",
    "res.head()"
   ]
  },
  {
   "cell_type": "code",
   "execution_count": 5,
   "metadata": {},
   "outputs": [
    {
     "data": {
      "text/plain": [
       "<matplotlib.legend.Legend at 0x7fa79376e370>"
      ]
     },
     "execution_count": 5,
     "metadata": {},
     "output_type": "execute_result"
    },
    {
     "data": {
      "image/png": "[encoded data removed]",
      "text/plain": [
       "<Figure size 432x288 with 1 Axes>"
      ]
     },
     "metadata": {
      "needs_background": "light"
     },
     "output_type": "display_data"
    }
   ],
   "source": [
    "plt.plot(res['auc'])\n",
    "plt.plot(res['val_auc'])\n",
    "plt.title('model auc')\n",
    "plt.ylabel('auc')\n",
    "plt.xlabel('epoch')\n",
    "plt.legend(['train', 'test'], loc='upper left')"
   ]
  },
  {
   "cell_type": "code",
   "execution_count": 6,
   "metadata": {},
   "outputs": [
    {
     "data": {
      "text/plain": [
       "<matplotlib.legend.Legend at 0x7fa7937c4fa0>"
      ]
     },
     "execution_count": 6,
     "metadata": {},
     "output_type": "execute_result"
    },
    {
     "data": {
      "image/png": "[encoded data removed]",
      "text/plain": [
       "<Figure size 432x288 with 1 Axes>"
      ]
     },
     "metadata": {
      "needs_background": "light"
     },
     "output_type": "display_data"
    }
   ],
   "source": [
    "plt.plot(res['loss'])\n",
    "plt.plot(res['val_loss'])\n",
    "plt.title('model loss')\n",
    "plt.ylabel('loss')\n",
    "plt.xlabel('epoch')\n",
    "plt.legend(['train', 'test'], loc='upper left')"
   ]
  },
  {
   "cell_type": "code",
   "execution_count": 7,
   "metadata": {},
   "outputs": [
    {
     "data": {
      "text/plain": [
       "<matplotlib.legend.Legend at 0x7fa7938d9e50>"
      ]
     },
     "execution_count": 7,
     "metadata": {},
     "output_type": "execute_result"
    },
    {
     "data": {
      "image/png": "[encoded data removed]",
      "text/plain": [
       "<Figure size 432x288 with 1 Axes>"
      ]
     },
     "metadata": {
      "needs_background": "light"
     },
     "output_type": "display_data"
    }
   ],
   "source": [
    "plt.plot(res['precision'])\n",
    "plt.plot(res['val_precision'])\n",
    "plt.title('model precision')\n",
    "plt.ylabel('precision')\n",
    "plt.xlabel('epoch')\n",
    "plt.legend(['train', 'test'], loc='upper left')"
   ]
  },
  {
   "cell_type": "code",
   "execution_count": 8,
   "metadata": {},
   "outputs": [
    {
     "data": {
      "text/plain": [
       "<matplotlib.legend.Legend at 0x7fa793a50fa0>"
      ]
     },
     "execution_count": 8,
     "metadata": {},
     "output_type": "execute_result"
    },
    {
     "data": {
      "image/png": "[encoded data removed]",
      "text/plain": [
       "<Figure size 432x288 with 1 Axes>"
      ]
     },
     "metadata": {
      "needs_background": "light"
     },
     "output_type": "display_data"
    }
   ],
   "source": [
    "plt.plot(res['recall'])\n",
    "plt.plot(res['val_recall'])\n",
    "plt.title('model recall')\n",
    "plt.ylabel('recall')\n",
    "plt.xlabel('epoch')\n",
    "plt.legend(['train', 'test'], loc='upper left')"
   ]
  },
  {
   "cell_type": "code",
   "execution_count": 9,
   "metadata": {},
   "outputs": [
    {
     "data": {
      "text/plain": [
       "<matplotlib.legend.Legend at 0x7fa7937d37c0>"
      ]
     },
     "execution_count": 9,
     "metadata": {},
     "output_type": "execute_result"
    },
    {
     "data": {
      "image/png": "[encoded data removed]",
      "text/plain": [
       "<Figure size 432x288 with 1 Axes>"
      ]
     },
     "metadata": {
      "needs_background": "light"
     },
     "output_type": "display_data"
    }
   ],
   "source": [
    "plt.plot(res['f1'])\n",
    "plt.plot(res['val_f1'])\n",
    "plt.title('model f1-score')\n",
    "plt.ylabel('f1-score')\n",
    "plt.xlabel('epoch')\n",
    "plt.legend(['train', 'test'], loc='upper left')"
   ]
  },
  {
   "cell_type": "code",
   "execution_count": 74,
   "metadata": {},
   "outputs": [
    {
     "name": "stdout",
     "output_type": "stream",
     "text": [
      "  epoch    test_accuracy    test_auc    test_loss    test_precision    test_recall    test_f1\n",
      "-------  ---------------  ----------  -----------  ----------------  -------------  ---------\n",
      "    250         0.890662    0.952663     0.411399           0.91661       0.858489   0.886598\n"
     ]
    }
   ],
   "source": [
    "from tabulate import tabulate\n",
    "tmp = [(250, res.loc[250][\"val_accuracy\"], res.loc[250][\"val_auc\"], res.loc[250][\"val_loss\"], res.loc[250][\"val_precision\"], res.loc[250][\"val_recall\"], res.loc[250][\"val_f1\"])]\n",
    "title = [\"epoch\", \"test_accuracy\", \"test_auc\", \"test_loss\", \"test_precision\", \"test_recall\", \"test_f1\"]\n",
    "print(tabulate(tmp, headers=title))"
   ]
  },
  {
   "cell_type": "code",
   "execution_count": 11,
   "metadata": {},
   "outputs": [
    {
     "data": {
      "text/plain": [
       "196"
      ]
     },
     "execution_count": 11,
     "metadata": {},
     "output_type": "execute_result"
    }
   ],
   "source": [
    "len(res['auc'])"
   ]
  },
  {
   "cell_type": "code",
   "execution_count": null,
   "metadata": {},
   "outputs": [],
   "source": []
  }
 ],
 "metadata": {
  "kernelspec": {
   "display_name": "tf",
   "language": "python",
   "name": "tf"
  },
  "language_info": {
   "codemirror_mode": {
    "name": "ipython",
    "version": 3
   },
   "file_extension": ".py",
   "mimetype": "text/x-python",
   "name": "python",
   "nbconvert_exporter": "python",
   "pygments_lexer": "ipython3",
   "version": "3.8.5"
  }
 },
 "nbformat": 4,
 "nbformat_minor": 4
}
