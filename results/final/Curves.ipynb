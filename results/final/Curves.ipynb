{
 "cells": [
  {
   "cell_type": "code",
   "execution_count": 12,
   "metadata": {},
   "outputs": [],
   "source": [
    "import pandas as pd\n",
    "import matplotlib.pyplot as plt\n",
    "%matplotlib inline"
   ]
  },
  {
   "cell_type": "code",
   "execution_count": 13,
   "metadata": {},
   "outputs": [
    {
     "data": {
      "text/html": [
       "<div>\n",
       "<style scoped>\n",
       "    .dataframe tbody tr th:only-of-type {\n",
       "        vertical-align: middle;\n",
       "    }\n",
       "\n",
       "    .dataframe tbody tr th {\n",
       "        vertical-align: top;\n",
       "    }\n",
       "\n",
       "    .dataframe thead th {\n",
       "        text-align: right;\n",
       "    }\n",
       "</style>\n",
       "<table border=\"1\" class=\"dataframe\">\n",
       "  <thead>\n",
       "    <tr style=\"text-align: right;\">\n",
       "      <th></th>\n",
       "      <th>epoch</th>\n",
       "      <th>auc</th>\n",
       "      <th>dice</th>\n",
       "      <th>loss</th>\n",
       "      <th>precision</th>\n",
       "      <th>recall</th>\n",
       "      <th>val_auc</th>\n",
       "      <th>val_dice</th>\n",
       "      <th>val_loss</th>\n",
       "      <th>val_precision</th>\n",
       "      <th>val_recall</th>\n",
       "    </tr>\n",
       "  </thead>\n",
       "  <tbody>\n",
       "    <tr>\n",
       "      <th>1</th>\n",
       "      <td>1</td>\n",
       "      <td>0.499812</td>\n",
       "      <td>0.354645</td>\n",
       "      <td>0.645356</td>\n",
       "      <td>0.302339</td>\n",
       "      <td>0.539400</td>\n",
       "      <td>0.499326</td>\n",
       "      <td>0.362390</td>\n",
       "      <td>0.637610</td>\n",
       "      <td>0.299522</td>\n",
       "      <td>0.395768</td>\n",
       "    </tr>\n",
       "    <tr>\n",
       "      <th>2</th>\n",
       "      <td>2</td>\n",
       "      <td>0.500251</td>\n",
       "      <td>0.356506</td>\n",
       "      <td>0.643494</td>\n",
       "      <td>0.302614</td>\n",
       "      <td>0.550846</td>\n",
       "      <td>0.499609</td>\n",
       "      <td>0.364407</td>\n",
       "      <td>0.635593</td>\n",
       "      <td>0.299879</td>\n",
       "      <td>0.451027</td>\n",
       "    </tr>\n",
       "    <tr>\n",
       "      <th>3</th>\n",
       "      <td>3</td>\n",
       "      <td>0.500375</td>\n",
       "      <td>0.358172</td>\n",
       "      <td>0.641827</td>\n",
       "      <td>0.302667</td>\n",
       "      <td>0.562786</td>\n",
       "      <td>0.499891</td>\n",
       "      <td>0.366381</td>\n",
       "      <td>0.633619</td>\n",
       "      <td>0.300184</td>\n",
       "      <td>0.504077</td>\n",
       "    </tr>\n",
       "    <tr>\n",
       "      <th>4</th>\n",
       "      <td>4</td>\n",
       "      <td>0.500674</td>\n",
       "      <td>0.359776</td>\n",
       "      <td>0.640224</td>\n",
       "      <td>0.302824</td>\n",
       "      <td>0.575675</td>\n",
       "      <td>0.500162</td>\n",
       "      <td>0.368131</td>\n",
       "      <td>0.631869</td>\n",
       "      <td>0.300443</td>\n",
       "      <td>0.554115</td>\n",
       "    </tr>\n",
       "    <tr>\n",
       "      <th>5</th>\n",
       "      <td>5</td>\n",
       "      <td>0.500862</td>\n",
       "      <td>0.361204</td>\n",
       "      <td>0.638796</td>\n",
       "      <td>0.302902</td>\n",
       "      <td>0.589180</td>\n",
       "      <td>0.500423</td>\n",
       "      <td>0.369590</td>\n",
       "      <td>0.630410</td>\n",
       "      <td>0.300593</td>\n",
       "      <td>0.599059</td>\n",
       "    </tr>\n",
       "  </tbody>\n",
       "</table>\n",
       "</div>"
      ],
      "text/plain": [
       "   epoch       auc      dice      loss  precision    recall   val_auc  \\\n",
       "1      1  0.499812  0.354645  0.645356   0.302339  0.539400  0.499326   \n",
       "2      2  0.500251  0.356506  0.643494   0.302614  0.550846  0.499609   \n",
       "3      3  0.500375  0.358172  0.641827   0.302667  0.562786  0.499891   \n",
       "4      4  0.500674  0.359776  0.640224   0.302824  0.575675  0.500162   \n",
       "5      5  0.500862  0.361204  0.638796   0.302902  0.589180  0.500423   \n",
       "\n",
       "   val_dice  val_loss  val_precision  val_recall  \n",
       "1  0.362390  0.637610       0.299522    0.395768  \n",
       "2  0.364407  0.635593       0.299879    0.451027  \n",
       "3  0.366381  0.633619       0.300184    0.504077  \n",
       "4  0.368131  0.631869       0.300443    0.554115  \n",
       "5  0.369590  0.630410       0.300593    0.599059  "
      ]
     },
     "execution_count": 13,
     "metadata": {},
     "output_type": "execute_result"
    }
   ],
   "source": [
    "res=pd.read_csv(\"./model_history_final_250.csv\")\n",
    "res = res.drop(0)\n",
    "res.head()"
   ]
  },
  {
   "cell_type": "code",
   "execution_count": 14,
   "metadata": {},
   "outputs": [
    {
     "data": {
      "text/html": [
       "<div>\n",
       "<style scoped>\n",
       "    .dataframe tbody tr th:only-of-type {\n",
       "        vertical-align: middle;\n",
       "    }\n",
       "\n",
       "    .dataframe tbody tr th {\n",
       "        vertical-align: top;\n",
       "    }\n",
       "\n",
       "    .dataframe thead th {\n",
       "        text-align: right;\n",
       "    }\n",
       "</style>\n",
       "<table border=\"1\" class=\"dataframe\">\n",
       "  <thead>\n",
       "    <tr style=\"text-align: right;\">\n",
       "      <th></th>\n",
       "      <th>epoch</th>\n",
       "      <th>auc</th>\n",
       "      <th>dice</th>\n",
       "      <th>loss</th>\n",
       "      <th>precision</th>\n",
       "      <th>recall</th>\n",
       "      <th>val_auc</th>\n",
       "      <th>val_dice</th>\n",
       "      <th>val_loss</th>\n",
       "      <th>val_precision</th>\n",
       "      <th>val_recall</th>\n",
       "      <th>f1</th>\n",
       "      <th>val_f1</th>\n",
       "    </tr>\n",
       "  </thead>\n",
       "  <tbody>\n",
       "    <tr>\n",
       "      <th>1</th>\n",
       "      <td>1</td>\n",
       "      <td>0.499812</td>\n",
       "      <td>0.354645</td>\n",
       "      <td>0.645356</td>\n",
       "      <td>0.302339</td>\n",
       "      <td>0.539400</td>\n",
       "      <td>0.499326</td>\n",
       "      <td>0.362390</td>\n",
       "      <td>0.637610</td>\n",
       "      <td>0.299522</td>\n",
       "      <td>0.395768</td>\n",
       "      <td>0.387488</td>\n",
       "      <td>0.340984</td>\n",
       "    </tr>\n",
       "    <tr>\n",
       "      <th>2</th>\n",
       "      <td>2</td>\n",
       "      <td>0.500251</td>\n",
       "      <td>0.356506</td>\n",
       "      <td>0.643494</td>\n",
       "      <td>0.302614</td>\n",
       "      <td>0.550846</td>\n",
       "      <td>0.499609</td>\n",
       "      <td>0.364407</td>\n",
       "      <td>0.635593</td>\n",
       "      <td>0.299879</td>\n",
       "      <td>0.451027</td>\n",
       "      <td>0.390630</td>\n",
       "      <td>0.360241</td>\n",
       "    </tr>\n",
       "    <tr>\n",
       "      <th>3</th>\n",
       "      <td>3</td>\n",
       "      <td>0.500375</td>\n",
       "      <td>0.358172</td>\n",
       "      <td>0.641827</td>\n",
       "      <td>0.302667</td>\n",
       "      <td>0.562786</td>\n",
       "      <td>0.499891</td>\n",
       "      <td>0.366381</td>\n",
       "      <td>0.633619</td>\n",
       "      <td>0.300184</td>\n",
       "      <td>0.504077</td>\n",
       "      <td>0.393636</td>\n",
       "      <td>0.376285</td>\n",
       "    </tr>\n",
       "    <tr>\n",
       "      <th>4</th>\n",
       "      <td>4</td>\n",
       "      <td>0.500674</td>\n",
       "      <td>0.359776</td>\n",
       "      <td>0.640224</td>\n",
       "      <td>0.302824</td>\n",
       "      <td>0.575675</td>\n",
       "      <td>0.500162</td>\n",
       "      <td>0.368131</td>\n",
       "      <td>0.631869</td>\n",
       "      <td>0.300443</td>\n",
       "      <td>0.554115</td>\n",
       "      <td>0.396878</td>\n",
       "      <td>0.389628</td>\n",
       "    </tr>\n",
       "    <tr>\n",
       "      <th>5</th>\n",
       "      <td>5</td>\n",
       "      <td>0.500862</td>\n",
       "      <td>0.361204</td>\n",
       "      <td>0.638796</td>\n",
       "      <td>0.302902</td>\n",
       "      <td>0.589180</td>\n",
       "      <td>0.500423</td>\n",
       "      <td>0.369590</td>\n",
       "      <td>0.630410</td>\n",
       "      <td>0.300593</td>\n",
       "      <td>0.599059</td>\n",
       "      <td>0.400106</td>\n",
       "      <td>0.400317</td>\n",
       "    </tr>\n",
       "  </tbody>\n",
       "</table>\n",
       "</div>"
      ],
      "text/plain": [
       "   epoch       auc      dice      loss  precision    recall   val_auc  \\\n",
       "1      1  0.499812  0.354645  0.645356   0.302339  0.539400  0.499326   \n",
       "2      2  0.500251  0.356506  0.643494   0.302614  0.550846  0.499609   \n",
       "3      3  0.500375  0.358172  0.641827   0.302667  0.562786  0.499891   \n",
       "4      4  0.500674  0.359776  0.640224   0.302824  0.575675  0.500162   \n",
       "5      5  0.500862  0.361204  0.638796   0.302902  0.589180  0.500423   \n",
       "\n",
       "   val_dice  val_loss  val_precision  val_recall        f1    val_f1  \n",
       "1  0.362390  0.637610       0.299522    0.395768  0.387488  0.340984  \n",
       "2  0.364407  0.635593       0.299879    0.451027  0.390630  0.360241  \n",
       "3  0.366381  0.633619       0.300184    0.504077  0.393636  0.376285  \n",
       "4  0.368131  0.631869       0.300443    0.554115  0.396878  0.389628  \n",
       "5  0.369590  0.630410       0.300593    0.599059  0.400106  0.400317  "
      ]
     },
     "execution_count": 14,
     "metadata": {},
     "output_type": "execute_result"
    }
   ],
   "source": [
    "f1score = []\n",
    "val_f1score = []\n",
    "for index, row in res.iterrows():\n",
    "    precision, recall = row[\"precision\"], row[\"recall\"]\n",
    "    f1 = 2*precision*recall/(precision+recall)\n",
    "    f1score.append(f1)\n",
    "    \n",
    "    val_precision, val_recall = row[\"val_precision\"], row[\"val_recall\"]\n",
    "    val_f1 = 2*val_precision*val_recall/(val_precision+val_recall)\n",
    "    val_f1score.append(val_f1)\n",
    "    \n",
    "res[\"f1\"] = f1score\n",
    "res[\"val_f1\"] = val_f1score\n",
    "res.head()"
   ]
  },
  {
   "cell_type": "code",
   "execution_count": 15,
   "metadata": {},
   "outputs": [
    {
     "data": {
      "text/plain": [
       "<matplotlib.legend.Legend at 0x7fa793de26d0>"
      ]
     },
     "execution_count": 15,
     "metadata": {},
     "output_type": "execute_result"
    },
    {
     "data": {
      "image/png": "[encoded data removed]",
      "text/plain": [
       "<Figure size 432x288 with 1 Axes>"
      ]
     },
     "metadata": {
      "needs_background": "light"
     },
     "output_type": "display_data"
    }
   ],
   "source": [
    "plt.plot(res['auc'])\n",
    "plt.plot(res['val_auc'])\n",
    "plt.title('model auc')\n",
    "plt.ylabel('auc')\n",
    "plt.xlabel('epoch')\n",
    "plt.legend(['train', 'test'], loc='upper left')"
   ]
  },
  {
   "cell_type": "code",
   "execution_count": 16,
   "metadata": {},
   "outputs": [
    {
     "data": {
      "text/plain": [
       "<matplotlib.legend.Legend at 0x7fa793fcac40>"
      ]
     },
     "execution_count": 16,
     "metadata": {},
     "output_type": "execute_result"
    },
    {
     "data": {
      "image/png": "[encoded data removed]",
      "text/plain": [
       "<Figure size 432x288 with 1 Axes>"
      ]
     },
     "metadata": {
      "needs_background": "light"
     },
     "output_type": "display_data"
    }
   ],
   "source": [
    "plt.plot(res['loss'])\n",
    "plt.plot(res['val_loss'])\n",
    "plt.title('model loss')\n",
    "plt.ylabel('loss')\n",
    "plt.xlabel('epoch')\n",
    "plt.legend(['train', 'test'], loc='upper left')"
   ]
  },
  {
   "cell_type": "code",
   "execution_count": 17,
   "metadata": {},
   "outputs": [
    {
     "data": {
      "text/plain": [
       "<matplotlib.legend.Legend at 0x7fa793f0ed30>"
      ]
     },
     "execution_count": 17,
     "metadata": {},
     "output_type": "execute_result"
    },
    {
     "data": {
      "image/png": "[encoded data removed]",
      "text/plain": [
       "<Figure size 432x288 with 1 Axes>"
      ]
     },
     "metadata": {
      "needs_background": "light"
     },
     "output_type": "display_data"
    }
   ],
   "source": [
    "plt.plot(res['precision'])\n",
    "plt.plot(res['val_precision'])\n",
    "plt.title('model precision')\n",
    "plt.ylabel('precision')\n",
    "plt.xlabel('epoch')\n",
    "plt.legend(['train', 'test'], loc='upper left')"
   ]
  },
  {
   "cell_type": "code",
   "execution_count": 18,
   "metadata": {},
   "outputs": [
    {
     "data": {
      "text/plain": [
       "<matplotlib.legend.Legend at 0x7fa793eb5c10>"
      ]
     },
     "execution_count": 18,
     "metadata": {},
     "output_type": "execute_result"
    },
    {
     "data": {
      "image/png": "[encoded data removed]",
      "text/plain": [
       "<Figure size 432x288 with 1 Axes>"
      ]
     },
     "metadata": {
      "needs_background": "light"
     },
     "output_type": "display_data"
    }
   ],
   "source": [
    "plt.plot(res['recall'])\n",
    "plt.plot(res['val_recall'])\n",
    "plt.title('model recall')\n",
    "plt.ylabel('recall')\n",
    "plt.xlabel('epoch')\n",
    "plt.legend(['train', 'test'], loc='upper left')"
   ]
  },
  {
   "cell_type": "code",
   "execution_count": 19,
   "metadata": {},
   "outputs": [
    {
     "data": {
      "text/plain": [
       "<matplotlib.legend.Legend at 0x7fa794218ee0>"
      ]
     },
     "execution_count": 19,
     "metadata": {},
     "output_type": "execute_result"
    },
    {
     "data": {
      "image/png": "[encoded data removed]",
      "text/plain": [
       "<Figure size 432x288 with 1 Axes>"
      ]
     },
     "metadata": {
      "needs_background": "light"
     },
     "output_type": "display_data"
    }
   ],
   "source": [
    "plt.plot(res['f1'])\n",
    "plt.plot(res['val_f1'])\n",
    "plt.title('model f1-score')\n",
    "plt.ylabel('f1-score')\n",
    "plt.xlabel('epoch')\n",
    "plt.legend(['train', 'test'], loc='upper left')"
   ]
  },
  {
   "cell_type": "code",
   "execution_count": 23,
   "metadata": {},
   "outputs": [
    {
     "name": "stdout",
     "output_type": "stream",
     "text": [
      "  epoch    test_auc    test_loss    test_precision    test_recall    test_f1\n",
      "-------  ----------  -----------  ----------------  -------------  ---------\n",
      "    168     0.50998     0.619704          0.300558       0.998839   0.462074\n"
     ]
    }
   ],
   "source": [
    "from tabulate import tabulate\n",
    "tmp = [(168, res.loc[168][\"val_auc\"], res.loc[168][\"val_loss\"], res.loc[168][\"val_precision\"], res.loc[168][\"val_recall\"], res.loc[168][\"val_f1\"])]\n",
    "title = [\"epoch\", \"test_auc\", \"test_loss\", \"test_precision\", \"test_recall\", \"test_f1\"]\n",
    "print(tabulate(tmp, headers=title))"
   ]
  }
 ],
 "metadata": {
  "kernelspec": {
   "display_name": "tf",
   "language": "python",
   "name": "tf"
  },
  "language_info": {
   "codemirror_mode": {
    "name": "ipython",
    "version": 3
   },
   "file_extension": ".py",
   "mimetype": "text/x-python",
   "name": "python",
   "nbconvert_exporter": "python",
   "pygments_lexer": "ipython3",
   "version": "3.8.5"
  }
 },
 "nbformat": 4,
 "nbformat_minor": 4
}
